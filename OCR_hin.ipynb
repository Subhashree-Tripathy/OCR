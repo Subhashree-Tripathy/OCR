{
  "cells": [
    {
      "cell_type": "code",
      "execution_count": null,
      "metadata": {
        "id": "jKnXTt-hprGr"
      },
      "outputs": [],
      "source": [
        "!pip install easyocr\n",
        "!pip install fitz\n",
        "!pip install PyMuPDF"
      ]
    },
    {
      "cell_type": "code",
      "execution_count": null,
      "metadata": {
        "id": "9Qw3GNcypcei"
      },
      "outputs": [],
      "source": [
        "# Convert pdf to images andf removing white spaces fromthe border\n",
        "def pdf_2_img(pdf_file, img_dir):\n",
        "    # img_dir.mkdir(exist_ok= True, parents = True)\n",
        "    doc = fitz.open(pdf_file)\n",
        "    for page in doc:\n",
        "        img_file = img_dir + f\"page_{page.number}.png\"\n",
        "        #Removing the surrounding white space to make OCR life easier\n",
        "        rect = page.rect\n",
        "        tl = rect.top_left + (60,60)\n",
        "        br = rect.bottom_right - (60,60)\n",
        "        clip = fitz.Rect(tl,br)  # the area we want\n",
        "        pix = page.get_pixmap(dpi = 300, clip=clip)\n",
        "        pix.save(img_file)"
      ]
    },
    {
      "cell_type": "code",
      "execution_count": null,
      "metadata": {
        "id": "i03Fd01lpnj8"
      },
      "outputs": [],
      "source": [
        "# Cut the image into half vertically creating 2 different images\n",
        "import cv2\n",
        "img_dir = os.listdir(\"/content/drive/MyDrive/OCR/Pdf2Img/\")\n",
        "for i in img_dir[1:]:\n",
        "  img = cv2.imread(\"/content/drive/MyDrive/OCR/Pdf2Img/\"+str(i))\n",
        "  height = img.shape[0]\n",
        "  width = img.shape[1]\n",
        "\n",
        "  # Cut the image in half\n",
        "  width_cutoff = width // 2\n",
        "  s1 = img[:, :width_cutoff]\n",
        "  s2 = img[:, width_cutoff:]\n",
        "\n",
        "  cv2.imwrite(\"/content/drive/MyDrive/OCR/ImgHalves/\"+i+\"1st.png\", s1)\n",
        "  cv2.imwrite(\"/content/drive/MyDrive/OCR/ImgHalves/\"+i+\"2nd.png\", s2)\n"
      ]
    },
    {
      "cell_type": "code",
      "execution_count": null,
      "metadata": {
        "id": "tyVw2vyHqK8t"
      },
      "outputs": [],
      "source": [
        "#Convert image halves to text using easyocr\n",
        "import easyocr\n",
        "page_lst = []\n",
        "c=0\n",
        "img_half_dir = os.listdir(\"/content/drive/MyDrive/OCR/ImgHalves/\")\n",
        "for i in img_half_dir:\n",
        "  s=''\n",
        "  reader = easyocr.Reader(['hi'])\n",
        "  result = reader.readtext(\"/content/drive/MyDrive/OCR/ImgHalves/\"+str(i))  \n",
        "  result = result[3:]\n",
        "  for i in range(len(result)):\n",
        "    s+= \" \"+result[i][1]\n",
        "  c+=1\n",
        "  print('index',c)\n",
        "  page_lst.append(s.strip())"
      ]
    },
    {
      "cell_type": "code",
      "execution_count": null,
      "metadata": {
        "id": "BGkmkyCTqOgD"
      },
      "outputs": [],
      "source": [
        "#Convert into txt files and arrange them\n",
        "from docx import Document\n",
        "import collections\n",
        "for i in range(0,len(page_lst),2):\n",
        "  with open(f'/content/sample_data/demo/{i}.txt','w') as file:\n",
        "    file.write(page_lst[i]+\"\\n\")\n",
        "    file.write(page_lst[i+1])\n",
        "\n",
        "txt_file_dir = os.listdir(\"/content/sample_data/txt_files/\")\n",
        "d={}\n",
        "for i in txt_file_dir:\n",
        "  d[i]=int(i.split('.')[0])\n",
        "sorted_dict = collections.OrderedDict({k: v for k, v in sorted(d.items(), key=lambda item: item[1])})"
      ]
    },
    {
      "cell_type": "code",
      "execution_count": null,
      "metadata": {
        "id": "Vpn94OQdqRQD"
      },
      "outputs": [],
      "source": [
        "#Convert text files into a doc\n",
        "document = Document()\n",
        "for i in sorted_dict.keys():\n",
        "  with open(f'/content/sample_data/txt_files/'+str(i),'r') as file:\n",
        "    for line in file.readlines():\n",
        "      document.add_paragraph(line)\n",
        "    document.add_page_break()\n",
        "document.save('lsd_01_01_01-07-1952_hindi.docx')"
      ]
    }
  ],
  "metadata": {
    "colab": {
      "provenance": []
    },
    "kernelspec": {
      "display_name": "Python 3",
      "name": "python3"
    },
    "language_info": {
      "name": "python"
    }
  },
  "nbformat": 4,
  "nbformat_minor": 0
}
